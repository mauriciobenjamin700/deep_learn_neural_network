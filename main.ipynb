{
 "cells": [
  {
   "cell_type": "code",
   "execution_count": 1,
   "metadata": {},
   "outputs": [],
   "source": [
    "import numpy as np\n",
    "import torch\n",
    "import torch.nn.functional as F\n",
    "import torchvision\n",
    "import matplotlib.pyplot as plt\n",
    "from time import time\n",
    "from torchvision import datasets, transforms\n",
    "from torch import nn, optim"
   ]
  },
  {
   "cell_type": "code",
   "execution_count": 2,
   "metadata": {},
   "outputs": [],
   "source": [
    "transform = transforms.ToTensor() #definindo a conversão de imagem para tensor\n",
    "\n",
    "trainset = datasets.MNIST(\"./MNIST_data/\", download=True, train=True, transform=transform) #carrega a parte de treino do dataset\n",
    "trainloader = torch.utils.data.DataLoader(trainset, batch_size=64, shuffle=True) # cria um buffer para pegar os dados por partes\n",
    "\n",
    "valset = datasets.MNIST(\"./MNIST_data/\", download=True, train=False, transform=transform) #carrega a parte de validação do dataset\n",
    "valloader = torch.utils.data.DataLoader(valset, batch_size=64,shuffle=True)"
   ]
  },
  {
   "cell_type": "code",
   "execution_count": 3,
   "metadata": {},
   "outputs": [
    {
     "data": {
      "text/plain": [
       "<matplotlib.image.AxesImage at 0x2a192e6a450>"
      ]
     },
     "execution_count": 3,
     "metadata": {},
     "output_type": "execute_result"
    },
    {
     "data": {
      "image/png": "[encoded data removed]",
      "text/plain": [
       "<Figure size 640x480 with 1 Axes>"
      ]
     },
     "metadata": {},
     "output_type": "display_data"
    }
   ],
   "source": [
    "dataiter = iter(trainloader)\n",
    "imagens, etiquetas = dataiter.__next__()\n",
    "plt.imshow(imagens[0].numpy().squeeze(),cmap=\"gray_r\")"
   ]
  },
  {
   "cell_type": "code",
   "execution_count": 4,
   "metadata": {},
   "outputs": [
    {
     "name": "stdout",
     "output_type": "stream",
     "text": [
      "torch.Size([1, 28, 28])\n",
      "torch.Size([])\n"
     ]
    }
   ],
   "source": [
    "print(imagens[0].shape) #para verificar as dimensões do tensor de cada imagem\n",
    "print(etiquetas[0].shape) #para verificar as dimensões do tensor de cada etiquetas"
   ]
  },
  {
   "cell_type": "code",
   "execution_count": 5,
   "metadata": {},
   "outputs": [],
   "source": [
    "class Modelo(nn.Module):\n",
    "    def __init__(self):\n",
    "        super(Modelo, self).__init__()\n",
    "        self.linear1 = nn.Linear(28*28,128) #cadama de entrada, 784 neurônios que se ligam a 128\n",
    "        self.linear2 = nn.Linear(128,64) #cadama interna 1, 128 neurônios que se ligam a 64\n",
    "        self.linear3 = nn.Linear(64,10) #camada interna 2, 64 neurônios que se ligam a 10\n",
    "        #para cada camada  de saida não é necessário definir nada pois só precisamos pegar o output da camada interna 2\n",
    "        \n",
    "    def forward(self, x):\n",
    "        x = F.relu(self.linear1(x))\n",
    "        x = F.relu(self.linear2(x))\n",
    "        x = self.linear3(x)\n",
    "        return F.log_softmax(x,dim=1)"
   ]
  },
  {
   "cell_type": "code",
   "execution_count": null,
   "metadata": {},
   "outputs": [],
   "source": [
    "def treino(modelo,treinloader, device):\n",
    "    \n",
    "    otimizador = optim.SGD(modelo.parameters(), lr=0.01, momentum=0.5) #define a política de atualização dos pesos e da bias\n",
    "    inicio = time() #timer para saber quanto tempo levou o treino\n",
    "    \n",
    "    criterio = nn.NLLLoss() #definindo o criterio para calcular a perda\n",
    "    EPOCHS = 10 #numero de epocas que o algoritmo rodará\n",
    "    modelo.train() #ativando o modo de treinamento do modelo\n",
    "    \n",
    "    for epoch in range(0,EPOCHS,1):\n",
    "        perda_acumulada = 0 #inicializando a perda acumulada da epoca em questão\n",
    "        \n",
    "        for imagens, etiquetas in trainloader:\n",
    "            \n",
    "            imagens = imagens.view(imagens.shape[0],-1) #convertendo as imagens para vetores de 28 * 28 casas\n",
    "            otimizador.zero_grad() #zerando os gradientes por conta do ciclo anterior\n",
    "            \n",
    "            output = modelo(imagens.to(device)) # colocando os dados no modelo\n",
    "            perda_instantanea = criterio(output, etiquetas.to(device)) #calculando a perda da epoca em questão\n",
    "            \n",
    "            perda_instantanea.backward() #back propagation a partir da perda\n",
    "            \n",
    "            otimizador.step() #atualizando os pesos e a bias\n",
    "            \n",
    "            perda_acumulada += perda_instantanea.item() #atualizando a perda acumulada\n",
    "            "
   ]
  },
  {
   "cell_type": "code",
   "execution_count": 6,
   "metadata": {},
   "outputs": [],
   "source": [
    "def validacao(modelo, valloader,device):\n",
    "    conta_corretas, conta_todas = 0,0\n",
    "    for imagens, etiquetas in  valloader:\n",
    "        for i in range(0,len(etiquetas),1):\n",
    "            img = imagens[i].view(1,784)\n",
    "            #desativar autograd para acelerar a validação. Grafos computacionais dinâmicos tem um alto custo de processamento\n",
    "            with torch.no_grad():\n",
    "                logps = modelo(img.to(device))\n",
    "                \n",
    "            ps = torch.exp(logps) # converte output para escala normal (lembrando que é um tensor)\n",
    "            probab = list(ps.cpu().numpy()[0])\n",
    "            etiqueta_pred = probab.index(max(probab)) #converte o tensor em número, no caso, o número que o modelo previu\n",
    "            etiqueta_certa = etiquetas.numpy()[i]\n",
    "            \n",
    "            if(etiqueta_certa == etiqueta_pred): #compara da previsão com o valor correto\n",
    "                conta_corretas +=1\n",
    "                \n",
    "            conta_todas +=1\n",
    "                \n",
    "    print(\"todas as imagens testadas = \", conta_todas)\n",
    "    print(\"Precisão do modelo = \",conta_corretas*100/conta_todas)"
   ]
  },
  {
   "cell_type": "code",
   "execution_count": 7,
   "metadata": {},
   "outputs": [
    {
     "data": {
      "text/plain": [
       "Modelo(\n",
       "  (linear1): Linear(in_features=784, out_features=128, bias=True)\n",
       "  (linear2): Linear(in_features=128, out_features=64, bias=True)\n",
       "  (linear3): Linear(in_features=64, out_features=10, bias=True)\n",
       ")"
      ]
     },
     "execution_count": 7,
     "metadata": {},
     "output_type": "execute_result"
    }
   ],
   "source": [
    "modelo = Modelo()\n",
    "device = torch.device(\"cuda\" if torch.cuda.is_available() else \"cpu\")\n",
    "modelo.to(device)"
   ]
  },
  {
   "cell_type": "code",
   "execution_count": null,
   "metadata": {},
   "outputs": [],
   "source": []
  }
 ],
 "metadata": {
  "kernelspec": {
   "display_name": ".venv",
   "language": "python",
   "name": "python3"
  },
  "language_info": {
   "codemirror_mode": {
    "name": "ipython",
    "version": 3
   },
   "file_extension": ".py",
   "mimetype": "text/x-python",
   "name": "python",
   "nbconvert_exporter": "python",
   "pygments_lexer": "ipython3",
   "version": "3.12.2"
  }
 },
 "nbformat": 4,
 "nbformat_minor": 2
}
